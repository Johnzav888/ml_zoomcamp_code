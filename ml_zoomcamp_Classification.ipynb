{
 "cells": [
  {
   "cell_type": "code",
   "execution_count": 276,
   "id": "da19b407",
   "metadata": {},
   "outputs": [],
   "source": [
    "import numpy as np\n",
    "import pandas as pd\n",
    "from matplotlib import pyplot as plt\n",
    "from sklearn.model_selection import train_test_split\n",
    "from sklearn.linear_model import LogisticRegression \n",
    "from sklearn.feature_extraction import DictVectorizer"
   ]
  },
  {
   "cell_type": "code",
   "execution_count": 277,
   "id": "b398e1a6",
   "metadata": {},
   "outputs": [
    {
     "name": "stdout",
     "output_type": "stream",
     "text": [
      "  neighbourhood_group        room_type  latitude  longitude  price  \\\n",
      "0            Brooklyn     Private room  40.64749  -73.97237    149   \n",
      "1           Manhattan  Entire home/apt  40.75362  -73.98377    225   \n",
      "2           Manhattan     Private room  40.80902  -73.94190    150   \n",
      "3            Brooklyn  Entire home/apt  40.68514  -73.95976     89   \n",
      "4           Manhattan  Entire home/apt  40.79851  -73.94399     80   \n",
      "\n",
      "   minimum_nights  number_of_reviews  reviews_per_month  \\\n",
      "0               1                  9               0.21   \n",
      "1               1                 45               0.38   \n",
      "2               3                  0                NaN   \n",
      "3               1                270               4.64   \n",
      "4              10                  9               0.10   \n",
      "\n",
      "   calculated_host_listings_count  availability_365  \n",
      "0                               6               365  \n",
      "1                               2               355  \n",
      "2                               1               365  \n",
      "3                               1               194  \n",
      "4                               1                 0  \n"
     ]
    }
   ],
   "source": [
    "mydata = pd.read_csv(\"AB_NYC_2019.csv\")\n",
    "mydata.head()\n",
    "mydata.describe()\n",
    "\n",
    "columns = [\"neighbourhood_group\", \"room_type\", \"latitude\", \"longitude\", \"price\", \"minimum_nights\", \"number_of_reviews\", \n",
    "           \"reviews_per_month\", \"calculated_host_listings_count\", \"availability_365\"]\n",
    "\n",
    "mydata2 = mydata.copy()\n",
    "mydata2 = mydata2[columns]\n",
    "print(mydata2.head())\n"
   ]
  },
  {
   "cell_type": "code",
   "execution_count": 278,
   "id": "ccb28294",
   "metadata": {},
   "outputs": [
    {
     "name": "stdout",
     "output_type": "stream",
     "text": [
      "neighbourhood_group                   0\n",
      "room_type                             0\n",
      "latitude                              0\n",
      "longitude                             0\n",
      "price                                 0\n",
      "minimum_nights                        0\n",
      "number_of_reviews                     0\n",
      "reviews_per_month                 10052\n",
      "calculated_host_listings_count        0\n",
      "availability_365                      0\n",
      "dtype: int64\n"
     ]
    }
   ],
   "source": [
    "print(mydata2.isna().sum())"
   ]
  },
  {
   "cell_type": "code",
   "execution_count": 279,
   "id": "09017d54",
   "metadata": {},
   "outputs": [
    {
     "name": "stdout",
     "output_type": "stream",
     "text": [
      "neighbourhood_group               0\n",
      "room_type                         0\n",
      "latitude                          0\n",
      "longitude                         0\n",
      "price                             0\n",
      "minimum_nights                    0\n",
      "number_of_reviews                 0\n",
      "reviews_per_month                 0\n",
      "calculated_host_listings_count    0\n",
      "availability_365                  0\n",
      "dtype: int64\n"
     ]
    }
   ],
   "source": [
    "mydata2 = mydata2.fillna(0.0)\n",
    "print(mydata2.isna().sum())"
   ]
  },
  {
   "cell_type": "markdown",
   "id": "2c5d0510",
   "metadata": {},
   "source": [
    "# Question 1\n"
   ]
  },
  {
   "cell_type": "code",
   "execution_count": 280,
   "id": "49c7bcd0",
   "metadata": {},
   "outputs": [
    {
     "data": {
      "text/plain": [
       "0    Manhattan\n",
       "dtype: object"
      ]
     },
     "execution_count": 280,
     "metadata": {},
     "output_type": "execute_result"
    }
   ],
   "source": [
    "mydata2[\"neighbourhood_group\"].mode()"
   ]
  },
  {
   "cell_type": "code",
   "execution_count": 281,
   "id": "175641c6",
   "metadata": {},
   "outputs": [
    {
     "name": "stdout",
     "output_type": "stream",
     "text": [
      "(29337, 10)\n",
      "(9779, 10)\n",
      "(9779, 10)\n"
     ]
    }
   ],
   "source": [
    "X_full, X_test = train_test_split(mydata2, test_size = 0.2, random_state = 42)\n",
    "X_train, X_val = train_test_split(X_full, test_size = 0.25, random_state = 42)\n",
    "\n",
    "print(X_train.shape)\n",
    "print(X_val.shape)\n",
    "print(X_test.shape)"
   ]
  },
  {
   "cell_type": "code",
   "execution_count": 282,
   "id": "e4bf6019",
   "metadata": {},
   "outputs": [],
   "source": [
    "X_train = X_train.reset_index(drop=True)\n",
    "X_val = X_val.reset_index(drop=True)\n",
    "X_test = X_test.reset_index(drop=True)"
   ]
  },
  {
   "cell_type": "code",
   "execution_count": 283,
   "id": "d35f012c",
   "metadata": {},
   "outputs": [
    {
     "name": "stdout",
     "output_type": "stream",
     "text": [
      "(29337,)\n",
      "(9779,)\n",
      "(9779,)\n"
     ]
    }
   ],
   "source": [
    "y_train = X_train.price\n",
    "y_val = X_val.price\n",
    "y_test = X_test.price\n",
    "\n",
    "print(y_train.shape)\n",
    "print(y_val.shape)\n",
    "print(y_test.shape)"
   ]
  },
  {
   "cell_type": "code",
   "execution_count": 284,
   "id": "42f87822",
   "metadata": {},
   "outputs": [],
   "source": [
    "del X_train[\"price\"]\n",
    "del X_val[\"price\"]\n",
    "del X_test[\"price\"]\n"
   ]
  },
  {
   "cell_type": "code",
   "execution_count": 285,
   "id": "876772c0",
   "metadata": {},
   "outputs": [
    {
     "data": {
      "text/html": [
       "<div>\n",
       "<style scoped>\n",
       "    .dataframe tbody tr th:only-of-type {\n",
       "        vertical-align: middle;\n",
       "    }\n",
       "\n",
       "    .dataframe tbody tr th {\n",
       "        vertical-align: top;\n",
       "    }\n",
       "\n",
       "    .dataframe thead th {\n",
       "        text-align: right;\n",
       "    }\n",
       "</style>\n",
       "<table border=\"1\" class=\"dataframe\">\n",
       "  <thead>\n",
       "    <tr style=\"text-align: right;\">\n",
       "      <th></th>\n",
       "      <th>neighbourhood_group</th>\n",
       "      <th>room_type</th>\n",
       "      <th>latitude</th>\n",
       "      <th>longitude</th>\n",
       "      <th>minimum_nights</th>\n",
       "      <th>number_of_reviews</th>\n",
       "      <th>reviews_per_month</th>\n",
       "      <th>calculated_host_listings_count</th>\n",
       "      <th>availability_365</th>\n",
       "    </tr>\n",
       "  </thead>\n",
       "  <tbody>\n",
       "    <tr>\n",
       "      <th>0</th>\n",
       "      <td>Brooklyn</td>\n",
       "      <td>Entire home/apt</td>\n",
       "      <td>40.72760</td>\n",
       "      <td>-73.94495</td>\n",
       "      <td>3</td>\n",
       "      <td>29</td>\n",
       "      <td>0.70</td>\n",
       "      <td>13</td>\n",
       "      <td>50</td>\n",
       "    </tr>\n",
       "    <tr>\n",
       "      <th>1</th>\n",
       "      <td>Manhattan</td>\n",
       "      <td>Private room</td>\n",
       "      <td>40.70847</td>\n",
       "      <td>-74.00498</td>\n",
       "      <td>1</td>\n",
       "      <td>0</td>\n",
       "      <td>0.00</td>\n",
       "      <td>1</td>\n",
       "      <td>7</td>\n",
       "    </tr>\n",
       "    <tr>\n",
       "      <th>2</th>\n",
       "      <td>Bronx</td>\n",
       "      <td>Entire home/apt</td>\n",
       "      <td>40.83149</td>\n",
       "      <td>-73.92766</td>\n",
       "      <td>40</td>\n",
       "      <td>0</td>\n",
       "      <td>0.00</td>\n",
       "      <td>1</td>\n",
       "      <td>0</td>\n",
       "    </tr>\n",
       "    <tr>\n",
       "      <th>3</th>\n",
       "      <td>Brooklyn</td>\n",
       "      <td>Entire home/apt</td>\n",
       "      <td>40.66448</td>\n",
       "      <td>-73.99407</td>\n",
       "      <td>2</td>\n",
       "      <td>3</td>\n",
       "      <td>0.08</td>\n",
       "      <td>1</td>\n",
       "      <td>0</td>\n",
       "    </tr>\n",
       "    <tr>\n",
       "      <th>4</th>\n",
       "      <td>Manhattan</td>\n",
       "      <td>Private room</td>\n",
       "      <td>40.74118</td>\n",
       "      <td>-74.00012</td>\n",
       "      <td>1</td>\n",
       "      <td>48</td>\n",
       "      <td>1.80</td>\n",
       "      <td>2</td>\n",
       "      <td>67</td>\n",
       "    </tr>\n",
       "  </tbody>\n",
       "</table>\n",
       "</div>"
      ],
      "text/plain": [
       "  neighbourhood_group        room_type  latitude  longitude  minimum_nights  \\\n",
       "0            Brooklyn  Entire home/apt  40.72760  -73.94495               3   \n",
       "1           Manhattan     Private room  40.70847  -74.00498               1   \n",
       "2               Bronx  Entire home/apt  40.83149  -73.92766              40   \n",
       "3            Brooklyn  Entire home/apt  40.66448  -73.99407               2   \n",
       "4           Manhattan     Private room  40.74118  -74.00012               1   \n",
       "\n",
       "   number_of_reviews  reviews_per_month  calculated_host_listings_count  \\\n",
       "0                 29               0.70                              13   \n",
       "1                  0               0.00                               1   \n",
       "2                  0               0.00                               1   \n",
       "3                  3               0.08                               1   \n",
       "4                 48               1.80                               2   \n",
       "\n",
       "   availability_365  \n",
       "0                50  \n",
       "1                 7  \n",
       "2                 0  \n",
       "3                 0  \n",
       "4                67  "
      ]
     },
     "execution_count": 285,
     "metadata": {},
     "output_type": "execute_result"
    }
   ],
   "source": [
    "X_train.head()"
   ]
  },
  {
   "cell_type": "markdown",
   "id": "bfb48263",
   "metadata": {},
   "source": [
    "# Question 2"
   ]
  },
  {
   "cell_type": "code",
   "execution_count": 286,
   "id": "3dc704ac",
   "metadata": {},
   "outputs": [],
   "source": [
    "mydata2.dtypes\n",
    "numericals = [\"latitude\", \"longitude\", \"reviews_per_month\", \"minimum_nights\", \"number_of_reviews\", \"calculated_host_listings_count\", \"availability_365\"]\n",
    "categorical = [\"neighbourhood_group\", \"room_type\"]"
   ]
  },
  {
   "cell_type": "code",
   "execution_count": 287,
   "id": "89968051",
   "metadata": {},
   "outputs": [
    {
     "data": {
      "text/html": [
       "<div>\n",
       "<style scoped>\n",
       "    .dataframe tbody tr th:only-of-type {\n",
       "        vertical-align: middle;\n",
       "    }\n",
       "\n",
       "    .dataframe tbody tr th {\n",
       "        vertical-align: top;\n",
       "    }\n",
       "\n",
       "    .dataframe thead th {\n",
       "        text-align: right;\n",
       "    }\n",
       "</style>\n",
       "<table border=\"1\" class=\"dataframe\">\n",
       "  <thead>\n",
       "    <tr style=\"text-align: right;\">\n",
       "      <th></th>\n",
       "      <th>latitude</th>\n",
       "      <th>longitude</th>\n",
       "      <th>reviews_per_month</th>\n",
       "      <th>minimum_nights</th>\n",
       "      <th>number_of_reviews</th>\n",
       "      <th>calculated_host_listings_count</th>\n",
       "      <th>availability_365</th>\n",
       "    </tr>\n",
       "  </thead>\n",
       "  <tbody>\n",
       "    <tr>\n",
       "      <th>latitude</th>\n",
       "      <td>1.000000</td>\n",
       "      <td>0.084788</td>\n",
       "      <td>-0.018758</td>\n",
       "      <td>0.024869</td>\n",
       "      <td>-0.015389</td>\n",
       "      <td>0.019517</td>\n",
       "      <td>-0.010983</td>\n",
       "    </tr>\n",
       "    <tr>\n",
       "      <th>longitude</th>\n",
       "      <td>0.084788</td>\n",
       "      <td>1.000000</td>\n",
       "      <td>0.138516</td>\n",
       "      <td>-0.062747</td>\n",
       "      <td>0.059094</td>\n",
       "      <td>-0.114713</td>\n",
       "      <td>0.082731</td>\n",
       "    </tr>\n",
       "    <tr>\n",
       "      <th>reviews_per_month</th>\n",
       "      <td>-0.018758</td>\n",
       "      <td>0.138516</td>\n",
       "      <td>1.000000</td>\n",
       "      <td>-0.124905</td>\n",
       "      <td>0.589407</td>\n",
       "      <td>-0.047312</td>\n",
       "      <td>0.163732</td>\n",
       "    </tr>\n",
       "    <tr>\n",
       "      <th>minimum_nights</th>\n",
       "      <td>0.024869</td>\n",
       "      <td>-0.062747</td>\n",
       "      <td>-0.124905</td>\n",
       "      <td>1.000000</td>\n",
       "      <td>-0.080116</td>\n",
       "      <td>0.127960</td>\n",
       "      <td>0.144303</td>\n",
       "    </tr>\n",
       "    <tr>\n",
       "      <th>number_of_reviews</th>\n",
       "      <td>-0.015389</td>\n",
       "      <td>0.059094</td>\n",
       "      <td>0.589407</td>\n",
       "      <td>-0.080116</td>\n",
       "      <td>1.000000</td>\n",
       "      <td>-0.072376</td>\n",
       "      <td>0.172028</td>\n",
       "    </tr>\n",
       "    <tr>\n",
       "      <th>calculated_host_listings_count</th>\n",
       "      <td>0.019517</td>\n",
       "      <td>-0.114713</td>\n",
       "      <td>-0.047312</td>\n",
       "      <td>0.127960</td>\n",
       "      <td>-0.072376</td>\n",
       "      <td>1.000000</td>\n",
       "      <td>0.225701</td>\n",
       "    </tr>\n",
       "    <tr>\n",
       "      <th>availability_365</th>\n",
       "      <td>-0.010983</td>\n",
       "      <td>0.082731</td>\n",
       "      <td>0.163732</td>\n",
       "      <td>0.144303</td>\n",
       "      <td>0.172028</td>\n",
       "      <td>0.225701</td>\n",
       "      <td>1.000000</td>\n",
       "    </tr>\n",
       "  </tbody>\n",
       "</table>\n",
       "</div>"
      ],
      "text/plain": [
       "                                latitude  longitude  reviews_per_month  \\\n",
       "latitude                        1.000000   0.084788          -0.018758   \n",
       "longitude                       0.084788   1.000000           0.138516   \n",
       "reviews_per_month              -0.018758   0.138516           1.000000   \n",
       "minimum_nights                  0.024869  -0.062747          -0.124905   \n",
       "number_of_reviews              -0.015389   0.059094           0.589407   \n",
       "calculated_host_listings_count  0.019517  -0.114713          -0.047312   \n",
       "availability_365               -0.010983   0.082731           0.163732   \n",
       "\n",
       "                                minimum_nights  number_of_reviews  \\\n",
       "latitude                              0.024869          -0.015389   \n",
       "longitude                            -0.062747           0.059094   \n",
       "reviews_per_month                    -0.124905           0.589407   \n",
       "minimum_nights                        1.000000          -0.080116   \n",
       "number_of_reviews                    -0.080116           1.000000   \n",
       "calculated_host_listings_count        0.127960          -0.072376   \n",
       "availability_365                      0.144303           0.172028   \n",
       "\n",
       "                                calculated_host_listings_count  \\\n",
       "latitude                                              0.019517   \n",
       "longitude                                            -0.114713   \n",
       "reviews_per_month                                    -0.047312   \n",
       "minimum_nights                                        0.127960   \n",
       "number_of_reviews                                    -0.072376   \n",
       "calculated_host_listings_count                        1.000000   \n",
       "availability_365                                      0.225701   \n",
       "\n",
       "                                availability_365  \n",
       "latitude                               -0.010983  \n",
       "longitude                               0.082731  \n",
       "reviews_per_month                       0.163732  \n",
       "minimum_nights                          0.144303  \n",
       "number_of_reviews                       0.172028  \n",
       "calculated_host_listings_count          0.225701  \n",
       "availability_365                        1.000000  "
      ]
     },
     "execution_count": 287,
     "metadata": {},
     "output_type": "execute_result"
    }
   ],
   "source": [
    "corrM = mydata2[numericals].corr()\n",
    "corrM"
   ]
  },
  {
   "cell_type": "code",
   "execution_count": 288,
   "id": "7adac61b",
   "metadata": {},
   "outputs": [
    {
     "data": {
      "text/plain": [
       "array([0, 0, 0, ..., 1, 0, 0])"
      ]
     },
     "execution_count": 288,
     "metadata": {},
     "output_type": "execute_result"
    }
   ],
   "source": [
    "above_average_train = np.where(y_train >= 152, 1, 0)\n",
    "above_average_train"
   ]
  },
  {
   "cell_type": "markdown",
   "id": "10e1a12f",
   "metadata": {},
   "source": [
    "# Question 3"
   ]
  },
  {
   "cell_type": "code",
   "execution_count": 289,
   "id": "eb016ee1",
   "metadata": {},
   "outputs": [
    {
     "data": {
      "text/plain": [
       "0.05"
      ]
     },
     "execution_count": 289,
     "metadata": {},
     "output_type": "execute_result"
    }
   ],
   "source": [
    "round(sklearn.metrics.mutual_info_score(X_train[categorical[0]], above_average_train), 2)"
   ]
  },
  {
   "cell_type": "code",
   "execution_count": 290,
   "id": "aa495cf8",
   "metadata": {},
   "outputs": [
    {
     "data": {
      "text/plain": [
       "0.14"
      ]
     },
     "execution_count": 290,
     "metadata": {},
     "output_type": "execute_result"
    }
   ],
   "source": [
    "round(sklearn.metrics.mutual_info_score(X_train[categorical[1]], above_average_train), 2)"
   ]
  },
  {
   "cell_type": "markdown",
   "id": "d21da56c",
   "metadata": {},
   "source": [
    "# Question 4"
   ]
  },
  {
   "cell_type": "code",
   "execution_count": 291,
   "id": "808e808e",
   "metadata": {},
   "outputs": [
    {
     "name": "stdout",
     "output_type": "stream",
     "text": [
      "{'neighbourhood_group': 'Brooklyn', 'room_type': 'Entire home/apt', 'latitude': 40.7276, 'longitude': -73.94495, 'reviews_per_month': 0.7, 'minimum_nights': 3, 'number_of_reviews': 29, 'calculated_host_listings_count': 13, 'availability_365': 50}\n",
      "(29337, 15)\n",
      "(29337,)\n"
     ]
    }
   ],
   "source": [
    "dv = DictVectorizer(sparse = False)\n",
    "\n",
    "X_train_dict = X_train[categorical + numericals].to_dict(orient = 'records')\n",
    "print(X_train_dict[0])\n",
    "\n",
    "X_train2 = dv.fit_transform(X_train_dict)\n",
    "\n",
    "print(X_train2.shape)\n",
    "print(y_train.shape)"
   ]
  },
  {
   "cell_type": "code",
   "execution_count": 292,
   "id": "53679796",
   "metadata": {},
   "outputs": [
    {
     "data": {
      "text/plain": [
       "LogisticRegression(max_iter=1000, random_state=42)"
      ]
     },
     "execution_count": 292,
     "metadata": {},
     "output_type": "execute_result"
    }
   ],
   "source": [
    "model = LogisticRegression(solver='lbfgs', C=1.0, random_state=42, max_iter=1000)\n",
    "\n",
    "model.fit(X_train2, above_average_train)"
   ]
  },
  {
   "cell_type": "code",
   "execution_count": 293,
   "id": "8e3c03ea",
   "metadata": {},
   "outputs": [],
   "source": [
    "X_val_dict = X_val[categorical + numericals].to_dict(orient = 'records')\n",
    "X_val2 = dv.fit_transform(X_val_dict)\n",
    "\n",
    "above_average_val = np.where(y_val >= 152, 1, 0)\n",
    "\n",
    "y_pred = model.predict(X_val2)"
   ]
  },
  {
   "cell_type": "code",
   "execution_count": 294,
   "id": "8ca1da68",
   "metadata": {},
   "outputs": [
    {
     "data": {
      "text/plain": [
       "0.790878412925657"
      ]
     },
     "execution_count": 294,
     "metadata": {},
     "output_type": "execute_result"
    }
   ],
   "source": [
    "df_pred = pd.DataFrame()\n",
    "df_pred[\"target\"] = above_average\n",
    "df_pred[\"Pred\"] = y_pred.astype(int)\n",
    "df_pred[\"Match\"] = df_pred[\"target\"] == df_pred[\"Pred\"]\n",
    "\n",
    "df_pred.head()\n",
    "\n",
    "Overall_Accuracy = df_pred[\"Match\"].mean()\n",
    "df_pred[\"Match\"].mean()"
   ]
  },
  {
   "cell_type": "markdown",
   "id": "704cecb8",
   "metadata": {},
   "source": [
    "# Question 5\n"
   ]
  },
  {
   "cell_type": "code",
   "execution_count": 295,
   "id": "35e49a86",
   "metadata": {},
   "outputs": [
    {
     "data": {
      "text/plain": [
       "['neighbourhood_group',\n",
       " 'room_type',\n",
       " 'latitude',\n",
       " 'longitude',\n",
       " 'reviews_per_month',\n",
       " 'minimum_nights',\n",
       " 'number_of_reviews',\n",
       " 'calculated_host_listings_count',\n",
       " 'availability_365']"
      ]
     },
     "execution_count": 295,
     "metadata": {},
     "output_type": "execute_result"
    }
   ],
   "source": [
    "features = categorical + numericals\n",
    "features"
   ]
  },
  {
   "cell_type": "code",
   "execution_count": 296,
   "id": "99c2aa45",
   "metadata": {},
   "outputs": [],
   "source": [
    "def all_models(features, i):\n",
    "    \n",
    "    feats = features.copy()\n",
    "    feats.pop(i)\n",
    "    \n",
    "    X_train_dict = X_train[feats].to_dict(orient = 'records')\n",
    "    X_train2 = dv.fit_transform(X_train_dict)\n",
    "    \n",
    "    model = LogisticRegression(solver='lbfgs', C=1.0, random_state=42, max_iter=1000)\n",
    "    model.fit(X_train2, above_average_train)\n",
    "    \n",
    "    X_val_dict = X_val[feats].to_dict(orient = 'records')\n",
    "    X_val2 = dv.fit_transform(X_val_dict)\n",
    "\n",
    "    y_pred = model.predict(X_val2)\n",
    "    \n",
    "    return (y_pred == above_average_val).mean()"
   ]
  },
  {
   "cell_type": "code",
   "execution_count": 297,
   "id": "21c8329a",
   "metadata": {},
   "outputs": [
    {
     "name": "stdout",
     "output_type": "stream",
     "text": [
      "Without neighbourhood_group, difference with overall accuracy is: 0.039881378464055595\n",
      "Without room_type, difference with overall accuracy is: 0.06237856631557415\n",
      "Without latitude, difference with overall accuracy is: 0.004090397791185141\n",
      "Without longitude, difference with overall accuracy is: 0.003988137846405504\n",
      "Without reviews_per_month, difference with overall accuracy is: 0.00010225994477952582\n",
      "Without minimum_nights, difference with overall accuracy is: 0.0\n",
      "Without number_of_reviews, difference with overall accuracy is: -0.0006135596686778211\n",
      "Without calculated_host_listings_count, difference with overall accuracy is: 0.0016361591164740785\n",
      "Without availability_365, difference with overall accuracy is: 0.009714694754064834\n"
     ]
    }
   ],
   "source": [
    "\n",
    "\n",
    "for i in range(0, len(features)):\n",
    "    accuracy = all_models(features, i)\n",
    "    Difference = Overall_Accuracy - accuracy\n",
    "    print(f\"Without {features[i]}, difference with overall accuracy is: {Difference}\")"
   ]
  },
  {
   "cell_type": "markdown",
   "id": "279a209a",
   "metadata": {},
   "source": [
    "# Question 6"
   ]
  },
  {
   "cell_type": "code",
   "execution_count": 298,
   "id": "be56b9b8",
   "metadata": {},
   "outputs": [],
   "source": [
    "y_train_log = np.log1p(y_train)\n",
    "y_val_log = np.log1p(y_val)"
   ]
  },
  {
   "cell_type": "code",
   "execution_count": 299,
   "id": "b5c9c397",
   "metadata": {},
   "outputs": [
    {
     "name": "stdout",
     "output_type": "stream",
     "text": [
      "For alpha: 0, RMSE= 0.247\n",
      "For alpha: 0.01, RMSE= 0.247\n",
      "For alpha: 0.1, RMSE= 0.247\n",
      "For alpha: 1, RMSE= 0.247\n",
      "For alpha: 10, RMSE= 0.247\n"
     ]
    },
    {
     "name": "stderr",
     "output_type": "stream",
     "text": [
      "c:\\users\\i.zavrakidis\\appdata\\local\\programs\\python\\python39\\lib\\site-packages\\sklearn\\linear_model\\_ridge.py:156: LinAlgWarning: Ill-conditioned matrix (rcond=4.73371e-21): result may not be accurate.\n",
      "  return linalg.solve(A, Xy, sym_pos=True, overwrite_a=True).T\n"
     ]
    }
   ],
   "source": [
    "from sklearn.linear_model import Ridge\n",
    "from sklearn.metrics import mean_squared_error\n",
    "\n",
    "a = [0, 0.01, 0.1, 1, 10]\n",
    "\n",
    "for i in range(0, len(a)):\n",
    "    \n",
    "    reg_model = Ridge(alpha = i)\n",
    "\n",
    "    reg_model.fit(X_train2, y_train_log)\n",
    "\n",
    "    y_pred = reg_model.predict(X_val2)\n",
    "\n",
    "    print(f\"For alpha: {a[i]}, RMSE= {round(mean_squared_error(y_pred, y_val_log), 3)}\")"
   ]
  },
  {
   "cell_type": "code",
   "execution_count": null,
   "id": "583b25ed",
   "metadata": {},
   "outputs": [],
   "source": []
  }
 ],
 "metadata": {
  "kernelspec": {
   "display_name": "Python 3 (ipykernel)",
   "language": "python",
   "name": "python3"
  },
  "language_info": {
   "codemirror_mode": {
    "name": "ipython",
    "version": 3
   },
   "file_extension": ".py",
   "mimetype": "text/x-python",
   "name": "python",
   "nbconvert_exporter": "python",
   "pygments_lexer": "ipython3",
   "version": "3.9.6"
  }
 },
 "nbformat": 4,
 "nbformat_minor": 5
}
